{
 "cells": [
  {
   "cell_type": "code",
   "execution_count": 1,
   "id": "c365670f-1cd3-442e-87df-3ddc89eac028",
   "metadata": {},
   "outputs": [
    {
     "name": "stdout",
     "output_type": "stream",
     "text": [
      "Requirement already satisfied: openvino-dev in /opt/app-root/lib64/python3.11/site-packages (2024.6.0)\n",
      "Requirement already satisfied: defusedxml>=0.7.1 in /opt/app-root/lib64/python3.11/site-packages (from openvino-dev) (0.7.1)\n",
      "Requirement already satisfied: networkx<=3.1.0 in /opt/app-root/lib64/python3.11/site-packages (from openvino-dev) (3.1)\n",
      "Requirement already satisfied: numpy<2.0.0,>=1.16.6 in /opt/app-root/lib64/python3.11/site-packages (from openvino-dev) (1.26.4)\n",
      "Requirement already satisfied: openvino-telemetry>=2023.2.1 in /opt/app-root/lib64/python3.11/site-packages (from openvino-dev) (2025.2.0)\n",
      "Requirement already satisfied: packaging in /opt/app-root/lib64/python3.11/site-packages (from openvino-dev) (25.0)\n",
      "Requirement already satisfied: pyyaml>=5.4.1 in /opt/app-root/lib64/python3.11/site-packages (from openvino-dev) (6.0.2)\n",
      "Requirement already satisfied: requests>=2.25.1 in /opt/app-root/lib64/python3.11/site-packages (from openvino-dev) (2.32.4)\n",
      "Requirement already satisfied: openvino==2024.6.0 in /opt/app-root/lib64/python3.11/site-packages (from openvino-dev) (2024.6.0)\n",
      "Requirement already satisfied: charset_normalizer<4,>=2 in /opt/app-root/lib64/python3.11/site-packages (from requests>=2.25.1->openvino-dev) (3.4.2)\n",
      "Requirement already satisfied: idna<4,>=2.5 in /opt/app-root/lib64/python3.11/site-packages (from requests>=2.25.1->openvino-dev) (3.10)\n",
      "Requirement already satisfied: urllib3<3,>=1.21.1 in /opt/app-root/lib64/python3.11/site-packages (from requests>=2.25.1->openvino-dev) (1.26.20)\n",
      "Requirement already satisfied: certifi>=2017.4.17 in /opt/app-root/lib64/python3.11/site-packages (from requests>=2.25.1->openvino-dev) (2025.6.15)\n",
      "\n",
      "\u001b[1m[\u001b[0m\u001b[34;49mnotice\u001b[0m\u001b[1;39;49m]\u001b[0m\u001b[39;49m A new release of pip is available: \u001b[0m\u001b[31;49m24.2\u001b[0m\u001b[39;49m -> \u001b[0m\u001b[32;49m25.2\u001b[0m\n",
      "\u001b[1m[\u001b[0m\u001b[34;49mnotice\u001b[0m\u001b[1;39;49m]\u001b[0m\u001b[39;49m To update, run: \u001b[0m\u001b[32;49mpip install --upgrade pip\u001b[0m\n"
     ]
    }
   ],
   "source": [
    "!pip install openvino-dev"
   ]
  },
  {
   "cell_type": "code",
   "execution_count": 2,
   "id": "48002319-a5e2-477a-9838-29462fd49916",
   "metadata": {},
   "outputs": [],
   "source": [
    "import os\n",
    "os.environ['CUDA_VISIBLE_DEVICES'] = '-1'"
   ]
  },
  {
   "cell_type": "code",
   "execution_count": 18,
   "id": "36c70e60-8e88-48d7-8a45-c58911663e60",
   "metadata": {},
   "outputs": [],
   "source": [
    "import pandas as pd\n",
    "from sklearn.model_selection import train_test_split\n",
    "from sklearn.preprocessing import StandardScaler\n",
    "import tensorflow as tf\n",
    "from tensorflow import keras"
   ]
  },
  {
   "cell_type": "code",
   "execution_count": 4,
   "id": "1f9b0f74-9aa3-459d-8c80-d07eadfd8033",
   "metadata": {},
   "outputs": [
    {
     "name": "stdout",
     "output_type": "stream",
     "text": [
      "                             timestamp  batteryId  ambientTemp  \\\n",
      "0     2025-10-06 11:32:27.639000+00:00          1        20.61   \n",
      "1     2025-10-06 11:32:30.640000+00:00          1        20.47   \n",
      "2     2025-10-06 11:32:33.639000+00:00          1        20.22   \n",
      "3     2025-10-06 11:32:36.639000+00:00          1        20.47   \n",
      "4     2025-10-06 11:32:39.639000+00:00          1        19.98   \n",
      "...                                ...        ...          ...   \n",
      "1195  2025-10-06 12:32:12.638000+00:00          1         0.52   \n",
      "1196  2025-10-06 12:32:15.638000+00:00          1         0.91   \n",
      "1197  2025-10-06 12:32:18.639000+00:00          1         0.98   \n",
      "1198  2025-10-06 12:32:21.638000+00:00          1         0.78   \n",
      "1199  2025-10-06 12:32:24.639000+00:00          1         0.35   \n",
      "\n",
      "      batteryCurrent  batteryTemp  batteryVoltage  currentLoad  distance  \\\n",
      "0              17.25        25.04           47.17        100.0      6.53   \n",
      "1              19.50        25.04           47.06        100.0      6.54   \n",
      "2              14.29        25.04           47.31        100.0      6.55   \n",
      "3              18.09        25.04           47.13        100.0      6.56   \n",
      "4              16.50        25.04           47.21        100.0      6.57   \n",
      "...              ...          ...             ...          ...       ...   \n",
      "1195           15.26        25.03           44.21        100.0     18.84   \n",
      "1196           24.24        25.04           43.74        100.0     18.86   \n",
      "1197           25.52        25.05           43.68        100.0     18.87   \n",
      "1198           21.54        25.05           43.88        100.0     18.89   \n",
      "1199           14.25        25.04           44.26        100.0     18.90   \n",
      "\n",
      "        kmh  stateOfCharge  stateOfHealth  \n",
      "0     14.81         0.9019        99.9496  \n",
      "1     16.52         0.9017        99.9495  \n",
      "2     12.29         0.9016        99.9494  \n",
      "3     15.34         0.9014        99.9493  \n",
      "4     14.27         0.9013        99.9492  \n",
      "...     ...            ...            ...  \n",
      "1195  12.34         0.7165        99.8301  \n",
      "1196  19.14         0.7163        99.8300  \n",
      "1197  20.08         0.7161        99.8299  \n",
      "1198  17.02         0.7159        99.8298  \n",
      "1199  11.37         0.7157        99.8297  \n",
      "\n",
      "[1200 rows x 11 columns]\n"
     ]
    }
   ],
   "source": [
    "# Read the data from file\n",
    "df = pd.read_csv(\"./data/battery_data.csv\")\n",
    "\n",
    "print(df)"
   ]
  },
  {
   "cell_type": "code",
   "execution_count": 5,
   "id": "e01742ed-852e-4399-ab26-3205b33bf491",
   "metadata": {},
   "outputs": [
    {
     "name": "stdout",
     "output_type": "stream",
     "text": [
      "                             timestamp  batteryId  ambientTemp  \\\n",
      "0     2025-10-06 11:32:27.639000+00:00          1        20.61   \n",
      "1     2025-10-06 11:32:30.640000+00:00          1        20.47   \n",
      "2     2025-10-06 11:32:33.639000+00:00          1        20.22   \n",
      "3     2025-10-06 11:32:36.639000+00:00          1        20.47   \n",
      "4     2025-10-06 11:32:39.639000+00:00          1        19.98   \n",
      "...                                ...        ...          ...   \n",
      "1195  2025-10-06 12:32:12.638000+00:00          1         0.52   \n",
      "1196  2025-10-06 12:32:15.638000+00:00          1         0.91   \n",
      "1197  2025-10-06 12:32:18.639000+00:00          1         0.98   \n",
      "1198  2025-10-06 12:32:21.638000+00:00          1         0.78   \n",
      "1199  2025-10-06 12:32:24.639000+00:00          1         0.35   \n",
      "\n",
      "      batteryCurrent  batteryTemp  batteryVoltage  currentLoad  distance  \\\n",
      "0              17.25        25.04           47.17        100.0      6.53   \n",
      "1              19.50        25.04           47.06        100.0      6.54   \n",
      "2              14.29        25.04           47.31        100.0      6.55   \n",
      "3              18.09        25.04           47.13        100.0      6.56   \n",
      "4              16.50        25.04           47.21        100.0      6.57   \n",
      "...              ...          ...             ...          ...       ...   \n",
      "1195           15.26        25.03           44.21        100.0     18.84   \n",
      "1196           24.24        25.04           43.74        100.0     18.86   \n",
      "1197           25.52        25.05           43.68        100.0     18.87   \n",
      "1198           21.54        25.05           43.88        100.0     18.89   \n",
      "1199           14.25        25.04           44.26        100.0     18.90   \n",
      "\n",
      "        kmh  stateOfCharge  stateOfHealth  stressIndicator  \n",
      "0     14.81         0.9019        99.9496                1  \n",
      "1     16.52         0.9017        99.9495                1  \n",
      "2     12.29         0.9016        99.9494                1  \n",
      "3     15.34         0.9014        99.9493                1  \n",
      "4     14.27         0.9013        99.9492                1  \n",
      "...     ...            ...            ...              ...  \n",
      "1195  12.34         0.7165        99.8301                1  \n",
      "1196  19.14         0.7163        99.8300                1  \n",
      "1197  20.08         0.7161        99.8299                1  \n",
      "1198  17.02         0.7159        99.8298                1  \n",
      "1199  11.37         0.7157        99.8297                1  \n",
      "\n",
      "[1200 rows x 12 columns]\n"
     ]
    }
   ],
   "source": [
    "# Define stress condition (1 = Stress, 0 = Normal)\n",
    "def detect_stress(row):\n",
    "    if row[\"batteryCurrent\"] > 400 or row[\"batteryTemp\"] > 50 or row[\"stateOfCharge\"] < 0.05 or row[\"batteryVoltage\"] < 320:\n",
    "        return 1  # Stress condition\n",
    "    return 0  # Normal condition\n",
    "\n",
    "\n",
    "# Apply stress detection\n",
    "df[\"stressIndicator\"] = df.apply(detect_stress, axis=1)\n",
    "\n",
    "print(df)"
   ]
  },
  {
   "cell_type": "code",
   "execution_count": 6,
   "id": "09a4a6ea-de73-4c02-a875-aa4c3fab42a4",
   "metadata": {},
   "outputs": [
    {
     "name": "stdout",
     "output_type": "stream",
     "text": [
      "Total stress events detected: 1200\n"
     ]
    }
   ],
   "source": [
    "# Count the number of stress events\n",
    "stress_count = df[\"stressIndicator\"].sum()\n",
    "\n",
    "print(f\"Total stress events detected: {stress_count}\")"
   ]
  },
  {
   "cell_type": "code",
   "execution_count": 7,
   "id": "5a2924f2-d093-4b38-a3f9-84923940c816",
   "metadata": {},
   "outputs": [],
   "source": [
    "# Define Features and Target\n",
    "features = [\"stateOfCharge\", \"stateOfHealth\", \"batteryCurrent\", \"batteryVoltage\", \"kmh\", \"distance\", \"batteryTemp\", \"ambientTemp\", \"currentLoad\"]\n",
    "X = df[features]\n",
    "y = df[\"stressIndicator\"]"
   ]
  },
  {
   "cell_type": "code",
   "execution_count": 8,
   "id": "fe888102-e34c-476f-a81b-781f22c95375",
   "metadata": {},
   "outputs": [],
   "source": [
    "# Split Data\n",
    "X_train, X_test, y_train, y_test = train_test_split(X, y, test_size=0.2, random_state=42)\n",
    "\n",
    "# Normalize data\n",
    "scaler = StandardScaler()\n",
    "X_train_scaled = scaler.fit_transform(X_train)\n",
    "X_test_scaled = scaler.transform(X_test)"
   ]
  },
  {
   "cell_type": "code",
   "execution_count": 9,
   "id": "e4f2dc01-f0e5-49ab-bd27-36b21900dc6b",
   "metadata": {},
   "outputs": [
    {
     "name": "stderr",
     "output_type": "stream",
     "text": [
      "2025-10-06 12:35:48.576899: E external/local_xla/xla/stream_executor/cuda/cuda_driver.cc:152] failed call to cuInit: INTERNAL: CUDA error: Failed call to cuInit: CUDA_ERROR_NO_DEVICE: no CUDA-capable device is detected\n",
      "2025-10-06 12:35:48.576943: I external/local_xla/xla/stream_executor/cuda/cuda_diagnostics.cc:137] retrieving CUDA diagnostic information for host: model-training-0\n",
      "2025-10-06 12:35:48.576954: I external/local_xla/xla/stream_executor/cuda/cuda_diagnostics.cc:144] hostname: model-training-0\n",
      "2025-10-06 12:35:48.577110: I external/local_xla/xla/stream_executor/cuda/cuda_diagnostics.cc:168] libcuda reported version is: 580.82.7\n",
      "2025-10-06 12:35:48.577137: I external/local_xla/xla/stream_executor/cuda/cuda_diagnostics.cc:172] kernel reported version is: 580.82.7\n",
      "2025-10-06 12:35:48.577145: I external/local_xla/xla/stream_executor/cuda/cuda_diagnostics.cc:259] kernel version seems to match DSO: 580.82.7\n"
     ]
    }
   ],
   "source": [
    "# Define neural network\n",
    "mlp_tf = keras.Sequential([\n",
    "    keras.layers.Input(shape=(X_train.shape[1],)),\n",
    "    keras.layers.Dense(64, activation='relu'),\n",
    "    keras.layers.Dense(32, activation='relu'),\n",
    "    keras.layers.Dense(1, activation='sigmoid')\n",
    "])\n",
    "\n",
    "# Compile model\n",
    "mlp_tf.compile(optimizer='adam', loss='binary_crossentropy', metrics=['accuracy'])"
   ]
  },
  {
   "cell_type": "code",
   "execution_count": 10,
   "id": "f5dbfe85-920e-4a24-9ec0-338dfbb9cfd2",
   "metadata": {},
   "outputs": [
    {
     "name": "stdout",
     "output_type": "stream",
     "text": [
      "Epoch 1/50\n",
      "27/27 - 1s - 49ms/step - accuracy: 0.7477 - loss: 0.5452 - val_accuracy: 1.0000 - val_loss: 0.2965\n",
      "Epoch 2/50\n",
      "27/27 - 0s - 5ms/step - accuracy: 1.0000 - loss: 0.1804 - val_accuracy: 1.0000 - val_loss: 0.0986\n",
      "Epoch 3/50\n",
      "27/27 - 0s - 5ms/step - accuracy: 1.0000 - loss: 0.0596 - val_accuracy: 1.0000 - val_loss: 0.0379\n",
      "Epoch 4/50\n",
      "27/27 - 0s - 5ms/step - accuracy: 1.0000 - loss: 0.0252 - val_accuracy: 1.0000 - val_loss: 0.0193\n",
      "Epoch 5/50\n",
      "27/27 - 0s - 5ms/step - accuracy: 1.0000 - loss: 0.0139 - val_accuracy: 1.0000 - val_loss: 0.0119\n",
      "Epoch 6/50\n",
      "27/27 - 0s - 4ms/step - accuracy: 1.0000 - loss: 0.0088 - val_accuracy: 1.0000 - val_loss: 0.0080\n",
      "Epoch 7/50\n",
      "27/27 - 0s - 4ms/step - accuracy: 1.0000 - loss: 0.0061 - val_accuracy: 1.0000 - val_loss: 0.0058\n",
      "Epoch 8/50\n",
      "27/27 - 0s - 4ms/step - accuracy: 1.0000 - loss: 0.0044 - val_accuracy: 1.0000 - val_loss: 0.0044\n",
      "Epoch 9/50\n",
      "27/27 - 0s - 5ms/step - accuracy: 1.0000 - loss: 0.0034 - val_accuracy: 1.0000 - val_loss: 0.0034\n",
      "Epoch 10/50\n",
      "27/27 - 0s - 4ms/step - accuracy: 1.0000 - loss: 0.0026 - val_accuracy: 1.0000 - val_loss: 0.0027\n",
      "Epoch 11/50\n",
      "27/27 - 0s - 4ms/step - accuracy: 1.0000 - loss: 0.0021 - val_accuracy: 1.0000 - val_loss: 0.0023\n",
      "Epoch 12/50\n",
      "27/27 - 0s - 4ms/step - accuracy: 1.0000 - loss: 0.0017 - val_accuracy: 1.0000 - val_loss: 0.0019\n",
      "Epoch 13/50\n",
      "27/27 - 0s - 4ms/step - accuracy: 1.0000 - loss: 0.0015 - val_accuracy: 1.0000 - val_loss: 0.0016\n",
      "Epoch 14/50\n",
      "27/27 - 0s - 5ms/step - accuracy: 1.0000 - loss: 0.0012 - val_accuracy: 1.0000 - val_loss: 0.0014\n",
      "Epoch 15/50\n",
      "27/27 - 0s - 5ms/step - accuracy: 1.0000 - loss: 0.0011 - val_accuracy: 1.0000 - val_loss: 0.0012\n",
      "Epoch 16/50\n",
      "27/27 - 0s - 4ms/step - accuracy: 1.0000 - loss: 9.1936e-04 - val_accuracy: 1.0000 - val_loss: 0.0010\n",
      "Epoch 17/50\n",
      "27/27 - 0s - 5ms/step - accuracy: 1.0000 - loss: 8.0472e-04 - val_accuracy: 1.0000 - val_loss: 9.2555e-04\n",
      "Epoch 18/50\n",
      "27/27 - 0s - 5ms/step - accuracy: 1.0000 - loss: 7.1092e-04 - val_accuracy: 1.0000 - val_loss: 8.2009e-04\n",
      "Epoch 19/50\n",
      "27/27 - 0s - 5ms/step - accuracy: 1.0000 - loss: 6.2923e-04 - val_accuracy: 1.0000 - val_loss: 7.3610e-04\n",
      "Epoch 20/50\n",
      "27/27 - 0s - 6ms/step - accuracy: 1.0000 - loss: 5.6289e-04 - val_accuracy: 1.0000 - val_loss: 6.6311e-04\n",
      "Epoch 21/50\n",
      "27/27 - 0s - 5ms/step - accuracy: 1.0000 - loss: 5.0535e-04 - val_accuracy: 1.0000 - val_loss: 6.0196e-04\n",
      "Epoch 22/50\n",
      "27/27 - 0s - 6ms/step - accuracy: 1.0000 - loss: 4.5732e-04 - val_accuracy: 1.0000 - val_loss: 5.4636e-04\n",
      "Epoch 23/50\n",
      "27/27 - 0s - 5ms/step - accuracy: 1.0000 - loss: 4.1456e-04 - val_accuracy: 1.0000 - val_loss: 4.9967e-04\n",
      "Epoch 24/50\n",
      "27/27 - 0s - 6ms/step - accuracy: 1.0000 - loss: 3.7773e-04 - val_accuracy: 1.0000 - val_loss: 4.5915e-04\n",
      "Epoch 25/50\n",
      "27/27 - 0s - 5ms/step - accuracy: 1.0000 - loss: 3.4606e-04 - val_accuracy: 1.0000 - val_loss: 4.2116e-04\n",
      "Epoch 26/50\n",
      "27/27 - 0s - 5ms/step - accuracy: 1.0000 - loss: 3.1775e-04 - val_accuracy: 1.0000 - val_loss: 3.8774e-04\n",
      "Epoch 27/50\n",
      "27/27 - 0s - 4ms/step - accuracy: 1.0000 - loss: 2.9229e-04 - val_accuracy: 1.0000 - val_loss: 3.5915e-04\n",
      "Epoch 28/50\n",
      "27/27 - 0s - 4ms/step - accuracy: 1.0000 - loss: 2.6995e-04 - val_accuracy: 1.0000 - val_loss: 3.3397e-04\n",
      "Epoch 29/50\n",
      "27/27 - 0s - 4ms/step - accuracy: 1.0000 - loss: 2.5023e-04 - val_accuracy: 1.0000 - val_loss: 3.1093e-04\n",
      "Epoch 30/50\n",
      "27/27 - 0s - 4ms/step - accuracy: 1.0000 - loss: 2.3271e-04 - val_accuracy: 1.0000 - val_loss: 2.8971e-04\n",
      "Epoch 31/50\n",
      "27/27 - 0s - 4ms/step - accuracy: 1.0000 - loss: 2.1618e-04 - val_accuracy: 1.0000 - val_loss: 2.7190e-04\n",
      "Epoch 32/50\n",
      "27/27 - 0s - 5ms/step - accuracy: 1.0000 - loss: 2.0230e-04 - val_accuracy: 1.0000 - val_loss: 2.5420e-04\n",
      "Epoch 33/50\n",
      "27/27 - 0s - 4ms/step - accuracy: 1.0000 - loss: 1.8892e-04 - val_accuracy: 1.0000 - val_loss: 2.3883e-04\n",
      "Epoch 34/50\n",
      "27/27 - 0s - 4ms/step - accuracy: 1.0000 - loss: 1.7706e-04 - val_accuracy: 1.0000 - val_loss: 2.2462e-04\n",
      "Epoch 35/50\n",
      "27/27 - 0s - 4ms/step - accuracy: 1.0000 - loss: 1.6607e-04 - val_accuracy: 1.0000 - val_loss: 2.1211e-04\n",
      "Epoch 36/50\n",
      "27/27 - 0s - 4ms/step - accuracy: 1.0000 - loss: 1.5627e-04 - val_accuracy: 1.0000 - val_loss: 2.0030e-04\n",
      "Epoch 37/50\n",
      "27/27 - 0s - 4ms/step - accuracy: 1.0000 - loss: 1.4728e-04 - val_accuracy: 1.0000 - val_loss: 1.8917e-04\n",
      "Epoch 38/50\n",
      "27/27 - 0s - 5ms/step - accuracy: 1.0000 - loss: 1.3893e-04 - val_accuracy: 1.0000 - val_loss: 1.7897e-04\n",
      "Epoch 39/50\n",
      "27/27 - 0s - 5ms/step - accuracy: 1.0000 - loss: 1.3118e-04 - val_accuracy: 1.0000 - val_loss: 1.6977e-04\n",
      "Epoch 40/50\n",
      "27/27 - 0s - 4ms/step - accuracy: 1.0000 - loss: 1.2422e-04 - val_accuracy: 1.0000 - val_loss: 1.6087e-04\n",
      "Epoch 41/50\n",
      "27/27 - 0s - 4ms/step - accuracy: 1.0000 - loss: 1.1763e-04 - val_accuracy: 1.0000 - val_loss: 1.5280e-04\n",
      "Epoch 42/50\n",
      "27/27 - 0s - 4ms/step - accuracy: 1.0000 - loss: 1.1148e-04 - val_accuracy: 1.0000 - val_loss: 1.4552e-04\n",
      "Epoch 43/50\n",
      "27/27 - 0s - 4ms/step - accuracy: 1.0000 - loss: 1.0585e-04 - val_accuracy: 1.0000 - val_loss: 1.3880e-04\n",
      "Epoch 44/50\n",
      "27/27 - 0s - 4ms/step - accuracy: 1.0000 - loss: 1.0069e-04 - val_accuracy: 1.0000 - val_loss: 1.3235e-04\n",
      "Epoch 45/50\n",
      "27/27 - 0s - 4ms/step - accuracy: 1.0000 - loss: 9.5857e-05 - val_accuracy: 1.0000 - val_loss: 1.2613e-04\n",
      "Epoch 46/50\n",
      "27/27 - 0s - 4ms/step - accuracy: 1.0000 - loss: 9.1294e-05 - val_accuracy: 1.0000 - val_loss: 1.2043e-04\n",
      "Epoch 47/50\n",
      "27/27 - 0s - 4ms/step - accuracy: 1.0000 - loss: 8.7017e-05 - val_accuracy: 1.0000 - val_loss: 1.1516e-04\n",
      "Epoch 48/50\n",
      "27/27 - 0s - 5ms/step - accuracy: 1.0000 - loss: 8.2993e-05 - val_accuracy: 1.0000 - val_loss: 1.1038e-04\n",
      "Epoch 49/50\n",
      "27/27 - 0s - 4ms/step - accuracy: 1.0000 - loss: 7.9357e-05 - val_accuracy: 1.0000 - val_loss: 1.0564e-04\n",
      "Epoch 50/50\n",
      "27/27 - 0s - 4ms/step - accuracy: 1.0000 - loss: 7.5809e-05 - val_accuracy: 1.0000 - val_loss: 1.0135e-04\n"
     ]
    },
    {
     "data": {
      "text/plain": [
       "<keras.src.callbacks.history.History at 0x7f6fa8f44190>"
      ]
     },
     "execution_count": 10,
     "metadata": {},
     "output_type": "execute_result"
    }
   ],
   "source": [
    "# Train model\n",
    "mlp_tf.fit(X_train_scaled, y_train, epochs=50, batch_size=32, validation_split=0.1, verbose=2)"
   ]
  },
  {
   "cell_type": "code",
   "execution_count": 15,
   "id": "6c32eb08-8606-47f0-beaa-bac7f454f889",
   "metadata": {},
   "outputs": [
    {
     "name": "stdout",
     "output_type": "stream",
     "text": [
      "Model saved as TensorFlow format in 'models/battery_stress_model.keras'\n"
     ]
    }
   ],
   "source": [
    "# Save model as keras\n",
    "os.makedirs(\"models\")\n",
    "mlp_tf.save(\"models/battery_stress_model.keras\")\n",
    "print(\"Model saved as TensorFlow format in 'models/battery_stress_model.keras'\")"
   ]
  },
  {
   "cell_type": "code",
   "execution_count": 16,
   "id": "6aed880f-cf70-4e74-8e73-38d0dc1f17a8",
   "metadata": {},
   "outputs": [
    {
     "name": "stdout",
     "output_type": "stream",
     "text": [
      "INFO:tensorflow:Assets written to: models/battery_stress_model/assets\n"
     ]
    },
    {
     "name": "stderr",
     "output_type": "stream",
     "text": [
      "INFO:tensorflow:Assets written to: models/battery_stress_model/assets\n"
     ]
    },
    {
     "name": "stdout",
     "output_type": "stream",
     "text": [
      "Model converted to SavedModel format\n"
     ]
    }
   ],
   "source": [
    "# Load model\n",
    "model = tf.keras.models.load_model(\"models/battery_stress_model.keras\")\n",
    "\n",
    "# Export SavedModel\n",
    "tf.saved_model.save(model, \"models/battery_stress_model\")\n",
    "\n",
    "print(\"Model converted to SavedModel format\")"
   ]
  },
  {
   "cell_type": "code",
   "execution_count": 17,
   "id": "be254bec-6c64-40df-8282-c4790748671a",
   "metadata": {},
   "outputs": [
    {
     "name": "stdout",
     "output_type": "stream",
     "text": [
      "[ INFO ] MO command line tool is considered as the legacy conversion API as of OpenVINO 2023.2 release.\n",
      "In 2025.0 MO command line tool and openvino.tools.mo.convert_model() will be removed. Please use OpenVINO Model Converter (OVC) or openvino.convert_model(). OVC represents a lightweight alternative of MO and provides simplified model conversion API. \n",
      "Find more information about transition from MO to OVC at https://docs.openvino.ai/2023.2/openvino_docs_OV_Converter_UG_prepare_model_convert_model_MO_OVC_transition.html\n",
      "2025-10-06 12:38:28.063393: E external/local_xla/xla/stream_executor/cuda/cuda_fft.cc:477] Unable to register cuFFT factory: Attempting to register factory for plugin cuFFT when one has already been registered\n",
      "WARNING: All log messages before absl::InitializeLog() is called are written to STDERR\n",
      "E0000 00:00:1759754308.090207    6196 cuda_dnn.cc:8310] Unable to register cuDNN factory: Attempting to register factory for plugin cuDNN when one has already been registered\n",
      "E0000 00:00:1759754308.098450    6196 cuda_blas.cc:1418] Unable to register cuBLAS factory: Attempting to register factory for plugin cuBLAS when one has already been registered\n",
      "2025-10-06 12:38:28.125662: I tensorflow/core/platform/cpu_feature_guard.cc:210] This TensorFlow binary is optimized to use available CPU instructions in performance-critical operations.\n",
      "To enable the following instructions: AVX2 AVX512F FMA, in other operations, rebuild TensorFlow with the appropriate compiler flags.\n",
      "[ INFO ] Generated IR will be compressed to FP16. If you get lower accuracy, please consider disabling compression explicitly by adding argument --compress_to_fp16=False.\n",
      "Find more information about compression to FP16 at https://docs.openvino.ai/2023.0/openvino_docs_MO_DG_FP16_Compression.html\n",
      "Check for a new version of Intel(R) Distribution of OpenVINO(TM) toolkit here https://software.intel.com/content/www/us/en/develop/tools/openvino-toolkit/download.html?cid=other&source=prod&campid=ww_2023_bu_IOTG_OpenVINO-2023-1&content=upg_all&medium=organic or on https://github.com/openvinotoolkit/openvino\n",
      "[ SUCCESS ] Generated IR version 11 model.\n",
      "[ SUCCESS ] XML file: /opt/app-root/src/ai-lifecycle-edge/notebooks/models/battery_stress_model/saved_model.xml\n",
      "[ SUCCESS ] BIN file: /opt/app-root/src/ai-lifecycle-edge/notebooks/models/battery_stress_model/saved_model.bin\n"
     ]
    }
   ],
   "source": [
    "!mo --saved_model_dir models/battery_stress_model --output_dir models/battery_stress_model"
   ]
  },
  {
   "cell_type": "code",
   "execution_count": null,
   "id": "ddf24027-21f5-41b8-b968-38dfe617b06a",
   "metadata": {},
   "outputs": [],
   "source": []
  }
 ],
 "metadata": {
  "kernelspec": {
   "display_name": "Python 3.11",
   "language": "python",
   "name": "python3"
  },
  "language_info": {
   "codemirror_mode": {
    "name": "ipython",
    "version": 3
   },
   "file_extension": ".py",
   "mimetype": "text/x-python",
   "name": "python",
   "nbconvert_exporter": "python",
   "pygments_lexer": "ipython3",
   "version": "3.11.11"
  }
 },
 "nbformat": 4,
 "nbformat_minor": 5
}
