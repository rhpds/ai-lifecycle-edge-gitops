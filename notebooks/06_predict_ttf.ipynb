{
 "cells": [
  {
   "cell_type": "code",
   "execution_count": 1,
   "id": "8ce663df-797a-4f47-bdda-b3d07706e1f9",
   "metadata": {},
   "outputs": [],
   "source": [
    "from openvino.runtime import Core\n",
    "import numpy as np"
   ]
  },
  {
   "cell_type": "code",
   "execution_count": 2,
   "id": "2b5120ff-e900-411e-843c-cb55fb804ba0",
   "metadata": {},
   "outputs": [],
   "source": [
    "# Load Model\n",
    "ie = Core()\n",
    "model_path = \"./models/battery_ttf_model/saved_model.xml\"\n",
    "compiled_model = ie.compile_model(model_path, \"CPU\")\n",
    "input_layer = compiled_model.input(0)\n",
    "output_layer = compiled_model.output(0)\n",
    "\n",
    "# New Battery Data\n",
    "input_data = np.array([[45.0, 500.0, 370.0, 0.4, 98.0]], dtype=np.float32)  # [Temp, Current, Voltage, SoC, SoH]"
   ]
  },
  {
   "cell_type": "code",
   "execution_count": 3,
   "id": "b3f0858a-1750-4a07-8456-d49f16b2aca3",
   "metadata": {},
   "outputs": [
    {
     "name": "stdout",
     "output_type": "stream",
     "text": [
      "Predicted Time Before Failure: 64.57 hours\n"
     ]
    }
   ],
   "source": [
    "# Predict Time Before Failure\n",
    "output = compiled_model([input_data])\n",
    "ttf_prediction = output[output_layer]\n",
    "predicted_ttf = ttf_prediction[0][0].item()\n",
    "print(f\"Predicted Time Before Failure: {predicted_ttf:.2f} hours\")"
   ]
  },
  {
   "cell_type": "code",
   "execution_count": null,
   "id": "41714d53-0b5f-481a-97d4-2dd0699024da",
   "metadata": {},
   "outputs": [],
   "source": []
  }
 ],
 "metadata": {
  "kernelspec": {
   "display_name": "Python 3.11",
   "language": "python",
   "name": "python3"
  },
  "language_info": {
   "codemirror_mode": {
    "name": "ipython",
    "version": 3
   },
   "file_extension": ".py",
   "mimetype": "text/x-python",
   "name": "python",
   "nbconvert_exporter": "python",
   "pygments_lexer": "ipython3",
   "version": "3.11.11"
  }
 },
 "nbformat": 4,
 "nbformat_minor": 5
}
