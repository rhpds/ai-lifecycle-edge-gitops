{
 "cells": [
  {
   "cell_type": "code",
   "execution_count": 1,
   "id": "2cd3f19d-2265-4b4c-b838-a5968d110c7d",
   "metadata": {},
   "outputs": [],
   "source": [
    "from openvino.runtime import Core\n",
    "import numpy as np\n",
    "import pandas as pd"
   ]
  },
  {
   "cell_type": "code",
   "execution_count": 2,
   "id": "f82edacc-d53a-4d54-89c1-326918ffb1ca",
   "metadata": {},
   "outputs": [],
   "source": [
    "# Load Model\n",
    "ie = Core()\n",
    "model_path = \"./models/battery_stress_model/saved_model.xml\"\n",
    "compiled_model = ie.compile_model(model_path, \"CPU\")\n",
    "input_layer = compiled_model.input(0)\n",
    "output_layer = compiled_model.output(0)\n",
    "\n",
    "# New Data\n",
    "new_data = pd.DataFrame([{\n",
    "    \"stateOfCharge\": 0.15,  # Low SoC\n",
    "    \"stateOfHealth\": 97.00,\n",
    "    \"batteryCurrent\": 480.00,  # High current\n",
    "    \"batteryVoltage\": 355.00,  # Low voltage\n",
    "    \"kmh\": 150.00,\n",
    "    \"distance\": 50.00,\n",
    "    \"batteryTemp\": 55.00,  # High temp\n",
    "    \"ambientTemp\": 22.00,\n",
    "    \"currentLoad\": 100,\n",
    "}])\n",
    "\n",
    "input_data = new_data.astype(np.float32).to_numpy()"
   ]
  },
  {
   "cell_type": "code",
   "execution_count": 3,
   "id": "d7212250-a1c1-40e3-beca-ed4c2e80a07a",
   "metadata": {},
   "outputs": [
    {
     "name": "stdout",
     "output_type": "stream",
     "text": [
      "Stress Prediction: STRESSED\n"
     ]
    }
   ],
   "source": [
    "# Make Prediction\n",
    "output = compiled_model([input_data])\n",
    "predicted_class = np.argmax(output[output_layer], axis=1)\n",
    "print(\"Stress Prediction:\", \"STRESSED\" if output[0] == 1 else \"NORMAL\")"
   ]
  }
 ],
 "metadata": {
  "kernelspec": {
   "display_name": "Python 3.11",
   "language": "python",
   "name": "python3"
  },
  "language_info": {
   "codemirror_mode": {
    "name": "ipython",
    "version": 3
   },
   "file_extension": ".py",
   "mimetype": "text/x-python",
   "name": "python",
   "nbconvert_exporter": "python",
   "pygments_lexer": "ipython3",
   "version": "3.11.11"
  }
 },
 "nbformat": 4,
 "nbformat_minor": 5
}
