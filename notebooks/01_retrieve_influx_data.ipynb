{
 "cells": [
  {
   "cell_type": "code",
   "execution_count": 1,
   "id": "844dcf36-c0c3-48f8-b06f-e86d783b3e9c",
   "metadata": {},
   "outputs": [
    {
     "name": "stdout",
     "output_type": "stream",
     "text": [
      "Requirement already satisfied: pandas in /opt/app-root/lib64/python3.11/site-packages (2.2.3)\n",
      "Collecting influxdb-client\n",
      "  Downloading influxdb_client-1.49.0-py3-none-any.whl.metadata (65 kB)\n",
      "Requirement already satisfied: numpy>=1.23.2 in /opt/app-root/lib64/python3.11/site-packages (from pandas) (1.26.4)\n",
      "Requirement already satisfied: python-dateutil>=2.8.2 in /opt/app-root/lib64/python3.11/site-packages (from pandas) (2.9.0.post0)\n",
      "Requirement already satisfied: pytz>=2020.1 in /opt/app-root/lib64/python3.11/site-packages (from pandas) (2025.2)\n",
      "Requirement already satisfied: tzdata>=2022.7 in /opt/app-root/lib64/python3.11/site-packages (from pandas) (2025.2)\n",
      "Collecting reactivex>=4.0.4 (from influxdb-client)\n",
      "  Downloading reactivex-4.0.4-py3-none-any.whl.metadata (5.5 kB)\n",
      "Requirement already satisfied: certifi>=14.05.14 in /opt/app-root/lib64/python3.11/site-packages (from influxdb-client) (2025.6.15)\n",
      "Requirement already satisfied: setuptools>=21.0.0 in /opt/app-root/lib64/python3.11/site-packages (from influxdb-client) (75.8.2)\n",
      "Requirement already satisfied: urllib3>=1.26.0 in /opt/app-root/lib64/python3.11/site-packages (from influxdb-client) (1.26.20)\n",
      "Requirement already satisfied: six>=1.5 in /opt/app-root/lib64/python3.11/site-packages (from python-dateutil>=2.8.2->pandas) (1.17.0)\n",
      "Requirement already satisfied: typing-extensions<5.0.0,>=4.1.1 in /opt/app-root/lib64/python3.11/site-packages (from reactivex>=4.0.4->influxdb-client) (4.14.0)\n",
      "Downloading influxdb_client-1.49.0-py3-none-any.whl (746 kB)\n",
      "\u001b[2K   \u001b[90m━━━━━━━━━━━━━━━━━━━━━━━━━━━━━━━━━━━━━━━━\u001b[0m \u001b[32m746.3/746.3 kB\u001b[0m \u001b[31m11.1 MB/s\u001b[0m eta \u001b[36m0:00:00\u001b[0m\n",
      "\u001b[?25hDownloading reactivex-4.0.4-py3-none-any.whl (217 kB)\n",
      "Installing collected packages: reactivex, influxdb-client\n",
      "Successfully installed influxdb-client-1.49.0 reactivex-4.0.4\n",
      "\n",
      "\u001b[1m[\u001b[0m\u001b[34;49mnotice\u001b[0m\u001b[1;39;49m]\u001b[0m\u001b[39;49m A new release of pip is available: \u001b[0m\u001b[31;49m24.2\u001b[0m\u001b[39;49m -> \u001b[0m\u001b[32;49m25.2\u001b[0m\n",
      "\u001b[1m[\u001b[0m\u001b[34;49mnotice\u001b[0m\u001b[1;39;49m]\u001b[0m\u001b[39;49m To update, run: \u001b[0m\u001b[32;49mpip install --upgrade pip\u001b[0m\n"
     ]
    }
   ],
   "source": [
    "!pip install pandas influxdb-client"
   ]
  },
  {
   "cell_type": "code",
   "execution_count": 8,
   "id": "4be9801e-8f49-4225-a30b-f56eeb169255",
   "metadata": {},
   "outputs": [],
   "source": [
    "from influxdb_client import InfluxDBClient, Point, WritePrecision\n",
    "from influxdb_client.client.write_api import SYNCHRONOUS\n",
    "import pandas as pd\n",
    "\n",
    "\n",
    "# InfluxDB Connection Details\n",
    "INFLUXDB_URL = \"https://influxdb-battery-demo.apps.sno.pemlab.rdu2.redhat.com/\"\n",
    "INFLUXDB_TOKEN = \"admin_token\"\n",
    "INFLUXDB_ORG = \"redhat\"\n",
    "INFLUXDB_BUCKET = \"bms\""
   ]
  },
  {
   "cell_type": "code",
   "execution_count": 9,
   "id": "9578087c-266a-4f20-9a27-fccf6f878153",
   "metadata": {},
   "outputs": [],
   "source": [
    "# Initialize Client\n",
    "client = InfluxDBClient(url=INFLUXDB_URL, token=INFLUXDB_TOKEN, org=INFLUXDB_ORG)\n",
    "write_api = client.write_api(write_options=SYNCHRONOUS)\n",
    "\n",
    "\n",
    "def retrieve_battery_data():\n",
    "    query = f'''\n",
    "    from(bucket: \"{INFLUXDB_BUCKET}\")\n",
    "      |> range(start: -1h)\n",
    "      |> filter(fn: (r) => r[\"_measurement\"] == \"battery_data\")\n",
    "    '''\n",
    "    query_api = client.query_api()\n",
    "    tables = query_api.query(query, org=INFLUXDB_ORG)\n",
    "\n",
    "    # Process Results\n",
    "    data = []\n",
    "    for table in tables:\n",
    "        for record in table.records:\n",
    "            data.append(record.values)\n",
    "\n",
    "    df = pd.DataFrame(data)\n",
    "    print(df)  # Print the retrieved data\n",
    "    return df"
   ]
  },
  {
   "cell_type": "code",
   "execution_count": 10,
   "id": "42eee6b9-6259-4a68-9e9a-54c64b15dc4c",
   "metadata": {},
   "outputs": [
    {
     "name": "stdout",
     "output_type": "stream",
     "text": [
      "       result  table                           _start  \\\n",
      "0     _result      0 2025-10-06 15:11:50.226605+00:00   \n",
      "1     _result      0 2025-10-06 15:11:50.226605+00:00   \n",
      "2     _result      0 2025-10-06 15:11:50.226605+00:00   \n",
      "3     _result      0 2025-10-06 15:11:50.226605+00:00   \n",
      "4     _result      0 2025-10-06 15:11:50.226605+00:00   \n",
      "...       ...    ...                              ...   \n",
      "9067  _result      8 2025-10-06 15:11:50.226605+00:00   \n",
      "9068  _result      8 2025-10-06 15:11:50.226605+00:00   \n",
      "9069  _result      8 2025-10-06 15:11:50.226605+00:00   \n",
      "9070  _result      8 2025-10-06 15:11:50.226605+00:00   \n",
      "9071  _result      8 2025-10-06 15:11:50.226605+00:00   \n",
      "\n",
      "                                _stop                            _time  \\\n",
      "0    2025-10-06 16:11:50.226605+00:00 2025-10-06 15:11:51.638000+00:00   \n",
      "1    2025-10-06 16:11:50.226605+00:00 2025-10-06 15:11:54.638000+00:00   \n",
      "2    2025-10-06 16:11:50.226605+00:00 2025-10-06 15:11:57.638000+00:00   \n",
      "3    2025-10-06 16:11:50.226605+00:00 2025-10-06 15:12:00.638000+00:00   \n",
      "4    2025-10-06 16:11:50.226605+00:00 2025-10-06 15:12:03.638000+00:00   \n",
      "...                               ...                              ...   \n",
      "9067 2025-10-06 16:11:50.226605+00:00 2025-10-06 16:11:38.036000+00:00   \n",
      "9068 2025-10-06 16:11:50.226605+00:00 2025-10-06 16:11:41.036000+00:00   \n",
      "9069 2025-10-06 16:11:50.226605+00:00 2025-10-06 16:11:44.036000+00:00   \n",
      "9070 2025-10-06 16:11:50.226605+00:00 2025-10-06 16:11:47.036000+00:00   \n",
      "9071 2025-10-06 16:11:50.226605+00:00 2025-10-06 16:11:50.036000+00:00   \n",
      "\n",
      "       _value         _field  _measurement batteryId  \n",
      "0    -23.3700    ambientTemp  battery_data         1  \n",
      "1    -23.4100    ambientTemp  battery_data         1  \n",
      "2    -23.2000    ambientTemp  battery_data         1  \n",
      "3    -22.9500    ambientTemp  battery_data         1  \n",
      "4    -22.6100    ambientTemp  battery_data         1  \n",
      "...       ...            ...           ...       ...  \n",
      "9067  99.9560  stateOfHealth  battery_data         1  \n",
      "9068  99.9559  stateOfHealth  battery_data         1  \n",
      "9069  99.9558  stateOfHealth  battery_data         1  \n",
      "9070  99.9557  stateOfHealth  battery_data         1  \n",
      "9071  99.9556  stateOfHealth  battery_data         1  \n",
      "\n",
      "[9072 rows x 9 columns]\n",
      "Saved raw battery data from InfluxDB.\n"
     ]
    }
   ],
   "source": [
    "df = retrieve_battery_data()\n",
    "\n",
    "# Drop non-numeric columns\n",
    "df = df.drop(columns=[\"result\", \"table\", \"_measurement\"])\n",
    "\n",
    "# Save for ML\n",
    "df.to_csv(\"./data/battery_raw.csv\", index=False)\n",
    "print(\"Saved raw battery data from InfluxDB.\")"
   ]
  },
  {
   "cell_type": "code",
   "execution_count": null,
   "id": "2b667eb6-e90e-4c20-81b7-2890504398c1",
   "metadata": {},
   "outputs": [],
   "source": []
  }
 ],
 "metadata": {
  "kernelspec": {
   "display_name": "Python 3.11",
   "language": "python",
   "name": "python3"
  },
  "language_info": {
   "codemirror_mode": {
    "name": "ipython",
    "version": 3
   },
   "file_extension": ".py",
   "mimetype": "text/x-python",
   "name": "python",
   "nbconvert_exporter": "python",
   "pygments_lexer": "ipython3",
   "version": "3.11.11"
  }
 },
 "nbformat": 4,
 "nbformat_minor": 5
}
