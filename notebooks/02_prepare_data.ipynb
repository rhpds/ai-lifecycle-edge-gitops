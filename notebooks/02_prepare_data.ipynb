{
 "cells": [
  {
   "cell_type": "code",
   "execution_count": 3,
   "id": "370d5300-b90f-4e5e-9992-a855ad058b71",
   "metadata": {},
   "outputs": [
    {
     "name": "stdout",
     "output_type": "stream",
     "text": [
      "_field                         timestamp  batteryId  ambientTemp  \\\n",
      "0       2025-10-06 15:11:51.638000+00:00          1       -23.37   \n",
      "1       2025-10-06 15:11:54.638000+00:00          1       -23.41   \n",
      "2       2025-10-06 15:11:57.638000+00:00          1       -23.20   \n",
      "3       2025-10-06 15:12:00.638000+00:00          1       -22.95   \n",
      "4       2025-10-06 15:12:03.638000+00:00          1       -22.61   \n",
      "\n",
      "_field  batteryCurrent  batteryTemp  batteryVoltage  currentLoad  distance  \\\n",
      "0                 1.27        25.02           37.92        100.0     55.91   \n",
      "1                 6.21        25.02           37.61        100.0     55.91   \n",
      "2                 1.28        25.01           37.92        100.0     55.91   \n",
      "3                 7.43        25.01           37.53        100.0     55.91   \n",
      "4                 9.07        25.01           37.43        100.0     55.92   \n",
      "\n",
      "_field   kmh  stateOfCharge  stateOfHealth  \n",
      "0       0.00         0.1606        99.5108  \n",
      "1       3.42         0.1605        99.5107  \n",
      "2       0.00         0.1605        99.5106  \n",
      "3       4.49         0.1605        99.5105  \n",
      "4       6.08         0.1604        99.5104  \n"
     ]
    }
   ],
   "source": [
    "import pandas as pd\n",
    "\n",
    "# Load InfluxDB CSV Data\n",
    "df = pd.read_csv(\"./data/battery_raw.csv\")\n",
    "\n",
    "# Pivot the data so that '_field' values become columns\n",
    "df_pivot = df.pivot(index=[\"_time\", \"batteryId\"], columns=\"_field\", values=\"_value\").reset_index()\n",
    "\n",
    "# Rename `_time` to `timestamp` for clarity\n",
    "df_pivot.rename(columns={\"_time\": \"timestamp\"}, inplace=True)\n",
    "\n",
    "# Display the transformed dataframe\n",
    "print(df_pivot.head())"
   ]
  },
  {
   "cell_type": "code",
   "execution_count": 4,
   "id": "47a050c4-0f1c-43e4-9431-cc9111557829",
   "metadata": {},
   "outputs": [
    {
     "name": "stdout",
     "output_type": "stream",
     "text": [
      "Saved battery data for ML training.\n"
     ]
    }
   ],
   "source": [
    "df_pivot.to_csv(\"./data/battery_data.csv\", index=False)\n",
    "print(\"Saved battery data for ML training.\")"
   ]
  },
  {
   "cell_type": "code",
   "execution_count": null,
   "id": "31acb66c-f835-409e-9a0e-1b6d5deb6e37",
   "metadata": {},
   "outputs": [],
   "source": []
  }
 ],
 "metadata": {
  "kernelspec": {
   "display_name": "Python 3.11",
   "language": "python",
   "name": "python3"
  },
  "language_info": {
   "codemirror_mode": {
    "name": "ipython",
    "version": 3
   },
   "file_extension": ".py",
   "mimetype": "text/x-python",
   "name": "python",
   "nbconvert_exporter": "python",
   "pygments_lexer": "ipython3",
   "version": "3.11.11"
  }
 },
 "nbformat": 4,
 "nbformat_minor": 5
}
