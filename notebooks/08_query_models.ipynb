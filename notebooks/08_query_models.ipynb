{
 "cells": [
  {
   "cell_type": "markdown",
   "id": "4b0f6b98-b820-4558-9019-fe7c28026987",
   "metadata": {},
   "source": [
    "# Querying models"
   ]
  },
  {
   "cell_type": "code",
   "execution_count": 1,
   "id": "87525dcb-df07-41c4-9043-5b187bd933a3",
   "metadata": {},
   "outputs": [],
   "source": [
    "import requests\n",
    "import json\n",
    "import subprocess\n",
    "import base64"
   ]
  },
  {
   "cell_type": "code",
   "execution_count": 5,
   "id": "6d2f159c-8b98-4baf-bab3-0ca0c8a6cfba",
   "metadata": {},
   "outputs": [
    {
     "name": "stdout",
     "output_type": "stream",
     "text": [
      "Stress Prediction: STRESSED\n"
     ]
    }
   ],
   "source": [
    "# Query stress detection model\n",
    "url = \"https://stress-detection-ai-edge-project.apps.sno.pemlab.rdu2.redhat.com/v2/models/stress-detection/infer\"\n",
    "\n",
    "#token = subprocess.check_output([\"oc\", \"get\", \"secret\", \"default-name-stress-detection-sa\", \"-n\", \"ai-edge-project\", \"-o\", \"jsonpath={.data.token}\"], text=True).strip()\n",
    "#token = base64.b64decode(token).decode\n",
    "\n",
    "token = \"eyJpc3MiOiJrdWJlcm5ldGVzL3NlcnZpY2VhY2NvdW50Iiwia3ViZXJuZXRlcy5pby9zZXJ2aWNlYWNjb3VudC9uYW1lc3BhY2UiOiJhaS1lZGdlLXByb2plY3QiLCJrdWJlcm5ldGVzLmlvL3NlcnZpY2VhY2NvdW50L3NlY3JldC5uYW1lIjoiZGVmYXVsdC1uYW1lLXN0cmVzcy1kZXRlY3Rpb24tc2EiLCJrdWJlcm5ldGVzLmlvL3NlcnZpY2VhY2NvdW50L3NlcnZpY2UtYWNjb3VudC5uYW1lIjoic3RyZXNzLWRldGVjdGlvbi1zYSIsImt1YmVybmV0ZXMuaW8vc2VydmljZWFjY291bnQvc2VydmljZS1hY2NvdW50LnVpZCI6IjcxODg5Yzk3LWVjNzMtNGJlYS04MTU3LWZmM2VkMmM0N2U5MCIsInN1YiI6InN5c3RlbTpzZXJ2aWNlYWNjb3VudDphaS1lZGdlLXByb2plY3Q6c3RyZXNzLWRldGVjdGlvbi1zYSJ9.PLiSp0FEuh0Y5L1nmocMgVZlzsnjjDhFIRSbwGrJRZU1Sd7AIjnwpUr8AzOAxp1m4ladB53hR9Rqy2H0qgY3-Bg673t871icWEoHZehmulG9lU5b0zNnpkPXV52qvPucbNPQv4wFPzcFUGFn0ryd4rSVjTuu--uU9636nzfxJWqfEOaXACr5MwWS9trJnkkCJz4PeaYhMDt4JFv61nss4slPMGGQVh9VYVry5Pg-sa-wy6xXpmPXuTtE6KxBmBrGS2wm_JI4yHp1kDKw_ZgzYMvcOuf0S0-W1vpsIM4aORom45uKbBVW38iROsYaW5O3D18O4AWl2oF3eAtbsMQ-jzwUUUaIxc5nwdq8bFWlxn7uXiyxLjtPFrHOxlJ_fTeEZMscC3H9QWr5RQEf_6hJW14lzWOZKd0u_sxbdQzwYtwivF7A8pw3HTawlgSwc75vZ-rYl0D2i9s6DvF9Xpl4oO9tWac8XEZU1nTg_JpPqiH_Qx2_zxI--NTHmVBnf-dJxYJXBd_FUjV_Mq0M8O4dxLBlKggTIonvYFNQa3fqSloeLYA8TZJHnQ3UMIvqaZqzk88Bk7dnCJgXFf39V_Nccy6WunSMhYfixmjgt9BjZF5wY8xezd-dYjVPUZUXbefj43wU9aYKtmwkmn8dswNQl0Rluxc6sJ_-hs3HTyey80k\"\n",
    "\n",
    "headers = {\n",
    "    \"Authorization\": f\"Bearer {token}\",\n",
    "    \"Content-Type\": \"application/json\"\n",
    "}\n",
    "\n",
    "data = {\n",
    "    \"inputs\": [\n",
    "        {\n",
    "            \"name\": \"inputs\",\n",
    "            \"shape\": [1, 9], \n",
    "            \"datatype\": \"FP32\",\n",
    "            \"data\": [[0.15, 97.00, 480.00, 355.00, 150.00, 50.00, 55.00, 22.00, 100.00]]\n",
    "        }\n",
    "    ]\n",
    "}\n",
    "\n",
    "response = requests.post(url, headers=headers, json=data, verify=True)\n",
    "\n",
    "\n",
    "def process_response(response):\n",
    "    if response.status_code == 200:\n",
    "        result = response.json()[\"outputs\"][0][\"data\"][-1]\n",
    "        print(\"Stress Prediction:\", \"STRESSED\" if result == 1.0 else \"NORMAL\")\n",
    "    else:\n",
    "        print(f\"Error: {response.status_code}, {response.text}\")\n",
    "\n",
    "\n",
    "process_response(response)"
   ]
  },
  {
   "cell_type": "code",
   "execution_count": 6,
   "id": "19cf4fc1-9e49-4fd2-b0e4-07548b91a917",
   "metadata": {},
   "outputs": [
    {
     "name": "stdout",
     "output_type": "stream",
     "text": [
      "Predicted Time Before Failure: 64.57 hours\n"
     ]
    }
   ],
   "source": [
    "# Query time to failure model\n",
    "url = \"https://time-to-failure-ai-edge-project.apps.sno.pemlab.rdu2.redhat.com/v2/models/time-to-failure/infer\"\n",
    "\n",
    "token = \"eyJpc3MiOiJrdWJlcm5ldGVzL3NlcnZpY2VhY2NvdW50Iiwia3ViZXJuZXRlcy5pby9zZXJ2aWNlYWNjb3VudC9uYW1lc3BhY2UiOiJhaS1lZGdlLXByb2plY3QiLCJrdWJlcm5ldGVzLmlvL3NlcnZpY2VhY2NvdW50L3NlY3JldC5uYW1lIjoiZGVmYXVsdC1uYW1lLXRpbWUtdG8tZmFpbHVyZS1zYSIsImt1YmVybmV0ZXMuaW8vc2VydmljZWFjY291bnQvc2VydmljZS1hY2NvdW50Lm5hbWUiOiJ0aW1lLXRvLWZhaWx1cmUtc2EiLCJrdWJlcm5ldGVzLmlvL3NlcnZpY2VhY2NvdW50L3NlcnZpY2UtYWNjb3VudC51aWQiOiJlNTE5YzljYy0wYWI0LTQ5MzctOTcyYi1iYzQ3YTAzYmU0NTIiLCJzdWIiOiJzeXN0ZW06c2VydmljZWFjY291bnQ6YWktZWRnZS1wcm9qZWN0OnRpbWUtdG8tZmFpbHVyZS1zYSJ9.N2rb2XJpG4ieE25jmuw9SIIyCh4CAbDhhEV6HsNtkV0EhHNrhcS4KLbbsI8BK8pXBpd7Pr6E7kYCU_5SKDguLQvjFVZqKYY_c2f5RKbmQ_79t9w5PfPBiquQBQEp60aKWiApJQPgnLSFdxMbf-XYwaMfhM-VWy5lLEHEEVGWURfu1HiY1dmQOo3oVnE6olkCnq3lyXhen0Ym3L8zPIy3-KweaB80VIqMWhzIpbLUISTygVU3nEUoyliw9PJgTWUTyhIs0BSDwmSbmA0nc4kuToLODBsGVVlt8xA9a-TgdX8GkTB9f-Z-Z_htJRgutJHKXYpDBk51zMU5gGU6ym6ZXCNowFQdQkTnc79h4Y13dvplgUDoqcv4iQLybsO8YK99yp5VtMQfCejP0RG3uhjh52GsFukk_kC9bSW0Ah7RCJgh6ujPUQsFCU6imnPwmoeAkZGxOf_RP6wBbDfTtg9uBw7cYayEUjPv8KYKpvJPhYPuXX77qjqVR_asqz0vmESOZAKKeLhJmw94373xATHPpw42Vp8lAM4sLttW0UkKseHy-8tiHgvecGC5eMmA3NnSoeTQ6jMYQ985gVElDfvDerb1XHtNGbVqvXwhd8LXWuKSaVB_RIU6Ifi3cn7ruwHvJGXB8QwHunoKYR2lme5DAglXAHGbY-QaMbI20CILNFU\"\n",
    "\n",
    "headers = {\n",
    "    \"Authorization\": f\"Bearer {token}\",\n",
    "    \"Content-Type\": \"application/json\"\n",
    "}\n",
    "\n",
    "data = {\n",
    "    \"inputs\": [\n",
    "        {\n",
    "            \"name\": \"inputs\",\n",
    "            \"shape\": [1, 5], \n",
    "            \"datatype\": \"FP32\",\n",
    "            \"data\": [[45.0, 500.0, 370.0, 0.4, 98.0]]\n",
    "        }\n",
    "    ]\n",
    "}\n",
    "\n",
    "response = requests.post(url, headers=headers, json=data, verify=True)\n",
    "\n",
    "\n",
    "def process_response(response):\n",
    "    if response.status_code == 200:\n",
    "        result = response.json()\n",
    "        output_value = result[\"outputs\"][0][\"data\"][0]  \n",
    "        print(f\"Predicted Time Before Failure: {output_value:.2f} hours\")\n",
    "    else:\n",
    "        print(f\"Error: {response.status_code}, {response.text}\")\n",
    "\n",
    "\n",
    "process_response(response)"
   ]
  }
 ],
 "metadata": {
  "kernelspec": {
   "display_name": "Python 3.11",
   "language": "python",
   "name": "python3"
  },
  "language_info": {
   "codemirror_mode": {
    "name": "ipython",
    "version": 3
   },
   "file_extension": ".py",
   "mimetype": "text/x-python",
   "name": "python",
   "nbconvert_exporter": "python",
   "pygments_lexer": "ipython3",
   "version": "3.11.11"
  }
 },
 "nbformat": 4,
 "nbformat_minor": 5
}
