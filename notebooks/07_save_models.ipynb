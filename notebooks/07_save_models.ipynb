{
 "cells": [
  {
   "cell_type": "markdown",
   "id": "9b300135-d4b7-4976-916d-1ef0cde14672",
   "metadata": {},
   "source": [
    "# Save model\n",
    "\n",
    "In this notebook we are going to create an s3 connection to upload our model"
   ]
  },
  {
   "cell_type": "code",
   "execution_count": 1,
   "id": "2aa598c0-5ce6-417a-95f1-e4faec1d7505",
   "metadata": {},
   "outputs": [],
   "source": [
    "# Imports for the s3 connection\n",
    "# ==============================================================================\n",
    "import os\n",
    "import boto3"
   ]
  },
  {
   "cell_type": "code",
   "execution_count": 2,
   "id": "9125246e-91f2-481e-8aa7-cd3e89693eb5",
   "metadata": {},
   "outputs": [],
   "source": [
    "# Read the data connection variables\n",
    "# ==============================================================================\n",
    "key_id = os.getenv(\"AWS_ACCESS_KEY_ID\")\n",
    "secret_key = os.getenv(\"AWS_SECRET_ACCESS_KEY\")\n",
    "endpoint = os.getenv(\"AWS_S3_ENDPOINT\")\n",
    "bucket_name = os.getenv(\"AWS_S3_BUCKET\")"
   ]
  },
  {
   "cell_type": "code",
   "execution_count": 3,
   "id": "aaaf7d0d-809e-4a36-8388-456c1ebd2794",
   "metadata": {},
   "outputs": [],
   "source": [
    "# Create s3 connection\n",
    "# ==============================================================================\n",
    "s3_client = boto3.client(\n",
    "    \"s3\",\n",
    "    aws_access_key_id=key_id,\n",
    "    aws_secret_access_key=secret_key,\n",
    "    endpoint_url=endpoint,\n",
    "    use_ssl=True\n",
    ")"
   ]
  },
  {
   "cell_type": "code",
   "execution_count": 4,
   "id": "a6e169ee-538d-4c0c-8271-b44620d797ac",
   "metadata": {},
   "outputs": [],
   "source": [
    "# Upload ttf and stress models\n",
    "# ==============================================================================\n",
    "s3_client.upload_file('models/battery_stress_model/saved_model.xml', bucket_name, Key='models/stress-detection/1/saved_model.xml')\n",
    "s3_client.upload_file('models/battery_stress_model/saved_model.bin', bucket_name, Key='models/stress-detection/1/saved_model.bin')\n",
    "\n",
    "s3_client.upload_file('models/battery_ttf_model/saved_model.xml', bucket_name, Key='models/time-to-failure/1/saved_model.xml')\n",
    "s3_client.upload_file('models/battery_ttf_model/saved_model.bin', bucket_name, Key='models/time-to-failure/1/saved_model.bin')"
   ]
  },
  {
   "cell_type": "code",
   "execution_count": null,
   "id": "3a7e200f-4d38-4bf9-9631-5afdec758e11",
   "metadata": {},
   "outputs": [],
   "source": []
  }
 ],
 "metadata": {
  "kernelspec": {
   "display_name": "Python 3.11",
   "language": "python",
   "name": "python3"
  },
  "language_info": {
   "codemirror_mode": {
    "name": "ipython",
    "version": 3
   },
   "file_extension": ".py",
   "mimetype": "text/x-python",
   "name": "python",
   "nbconvert_exporter": "python",
   "pygments_lexer": "ipython3",
   "version": "3.11.11"
  }
 },
 "nbformat": 4,
 "nbformat_minor": 5
}
